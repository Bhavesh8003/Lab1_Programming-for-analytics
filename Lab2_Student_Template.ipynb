{
 "cells": [
  {
   "cell_type": "markdown",
   "id": "b3e6329e",
   "metadata": {},
   "source": [
    "# Lab 2: Control Structures and Functions\n",
    "AYTS5001 - Programming for Analytics"
   ]
  },
  {
   "cell_type": "markdown",
   "id": "a147fd29",
   "metadata": {},
   "source": [
    "## Task 1: Even or Odd Number Checker"
   ]
  },
  {
   "cell_type": "code",
   "execution_count": 6,
   "id": "3bf2868b",
   "metadata": {},
   "outputs": [
    {
     "name": "stdin",
     "output_type": "stream",
     "text": [
      "Enter a number: 4\n"
     ]
    },
    {
     "name": "stdout",
     "output_type": "stream",
     "text": [
      "Even number\n"
     ]
    }
   ],
   "source": [
    "number = input(\"Enter a number:\")\n",
    "if (int(number))%2 == 0:\n",
    "    print(\"Even number\")\n",
    "else:\n",
    "    print(\"odd number\")"
   ]
  },
  {
   "cell_type": "markdown",
   "id": "06cc0422",
   "metadata": {},
   "source": [
    "## Task 2: Multiples of 3"
   ]
  },
  {
   "cell_type": "code",
   "execution_count": 10,
   "id": "79828c1c",
   "metadata": {},
   "outputs": [
    {
     "name": "stdout",
     "output_type": "stream",
     "text": [
      "3\n",
      "6\n",
      "9\n",
      "12\n",
      "15\n",
      "18\n",
      "21\n",
      "24\n",
      "27\n",
      "30\n",
      "33\n",
      "36\n",
      "39\n",
      "42\n",
      "45\n",
      "48\n"
     ]
    }
   ],
   "source": [
    "\n",
    "for a in range(1,50):\n",
    "    if a%3 == 0:\n",
    "        print(a)"
   ]
  },
  {
   "cell_type": "markdown",
   "id": "6430dd4f",
   "metadata": {},
   "source": [
    "## Task 3: Password Strength Checker"
   ]
  },
  {
   "cell_type": "code",
   "execution_count": 26,
   "id": "b7a00267",
   "metadata": {},
   "outputs": [
    {
     "name": "stdin",
     "output_type": "stream",
     "text": [
      "Enter your password: Bhavesh@8003\n"
     ]
    },
    {
     "name": "stdout",
     "output_type": "stream",
     "text": [
      "Password is strong\n"
     ]
    }
   ],
   "source": [
    "p = input(\"Enter your password:\")\n",
    "is_strong = True\n",
    "if len(p)<8:\n",
    "    print(\"Password must be atleast 8 characters\")\n",
    "    is_strong = False\n",
    "if not any(char.isdigit() for char in p):\n",
    "    print(\"password must contain at least one digit\")\n",
    "    is_strong = False\n",
    "if not any(not char.isalnum() for char in p):\n",
    "    print(\"Password must contain at least one special character Eg-@!# etc\")\n",
    "    is_strong = False\n",
    "if is_strong:\n",
    "    print(\"Password is strong\")\n",
    "else:\n",
    "    print(\"Make necessary changes\")"
   ]
  },
  {
   "cell_type": "markdown",
   "id": "ff49a53b",
   "metadata": {},
   "source": [
    "## Task 4: FizzBuzz"
   ]
  },
  {
   "cell_type": "code",
   "execution_count": 33,
   "id": "c43f838c",
   "metadata": {},
   "outputs": [
    {
     "name": "stdout",
     "output_type": "stream",
     "text": [
      "1\n",
      "2\n",
      "Fizz\n",
      "4\n",
      "FizzBuzz\n",
      "Fizz\n",
      "7\n",
      "8\n",
      "Fizz\n",
      "FizzBuzz\n",
      "11\n",
      "Fizz\n",
      "13\n",
      "14\n",
      "Fizz\n",
      "16\n",
      "17\n",
      "Fizz\n",
      "19\n",
      "FizzBuzz\n",
      "Fizz\n",
      "22\n",
      "23\n",
      "Fizz\n",
      "FizzBuzz\n",
      "26\n",
      "Fizz\n",
      "28\n",
      "29\n",
      "Fizz\n",
      "31\n",
      "32\n",
      "Fizz\n",
      "34\n",
      "FizzBuzz\n",
      "Fizz\n",
      "37\n",
      "38\n",
      "Fizz\n",
      "FizzBuzz\n",
      "41\n",
      "Fizz\n",
      "43\n",
      "44\n",
      "Fizz\n",
      "46\n",
      "47\n",
      "Fizz\n",
      "49\n"
     ]
    }
   ],
   "source": [
    "for i in range(1,50):\n",
    "    if i%3 and i%5 == 0:\n",
    "        print(\"FizzBuzz\")\n",
    "    elif i%3 == 0:\n",
    "        print(\"Fizz\")\n",
    "    elif i%5 == 0:\n",
    "        print(\"Buzz\")\n",
    "    else:\n",
    "        print(i)\n",
    "\n",
    "\n",
    "\n",
    "\n",
    "\n",
    "\n",
    "\n",
    "        \n"
   ]
  },
  {
   "cell_type": "markdown",
   "id": "a9f5792b",
   "metadata": {},
   "source": [
    "## Task 5: Temperature Conversion Table"
   ]
  },
  {
   "cell_type": "code",
   "execution_count": 39,
   "id": "b4dfb707",
   "metadata": {},
   "outputs": [
    {
     "name": "stdin",
     "output_type": "stream",
     "text": [
      "enter the start temperature 1\n",
      "enter the end temperature 20\n"
     ]
    },
    {
     "name": "stdout",
     "output_type": "stream",
     "text": [
      "celsius\tfahrenheit\n",
      "--------------------\n",
      "1\t33.8\n",
      "2\t35.6\n",
      "3\t37.4\n",
      "4\t39.2\n",
      "5\t41.0\n",
      "6\t42.8\n",
      "7\t44.6\n",
      "8\t46.4\n",
      "9\t48.2\n",
      "10\t50.0\n",
      "11\t51.8\n",
      "12\t53.6\n",
      "13\t55.4\n",
      "14\t57.2\n",
      "15\t59.0\n",
      "16\t60.8\n",
      "17\t62.6\n",
      "18\t64.4\n",
      "19\t66.2\n",
      "20\t68.0\n"
     ]
    }
   ],
   "source": [
    "def temp_table(start,end):\n",
    "    print(\"celsius\\tfahrenheit\")\n",
    "    print(\"--------------------\")\n",
    "    for c in range(start, end+1):\n",
    "        f = (c*9/5)+32\n",
    "        print(f\"{c}\\t{f}\")\n",
    "start = int(input(\"enter the start temperature\"))\n",
    "end = int(input(\"enter the end temperature\"))\n",
    "\n",
    "temp_table(start,end)\n"
   ]
  },
  {
   "cell_type": "markdown",
   "id": "16e39932",
   "metadata": {},
   "source": [
    "## Task 6: Factorial with Input Validation"
   ]
  },
  {
   "cell_type": "code",
   "execution_count": 40,
   "id": "9b8ce5e9",
   "metadata": {},
   "outputs": [
    {
     "name": "stdin",
     "output_type": "stream",
     "text": [
      "Enter a non-negative integer:  5\n"
     ]
    },
    {
     "name": "stdout",
     "output_type": "stream",
     "text": [
      "The factorial of 5 is 120\n"
     ]
    }
   ],
   "source": [
    "def factorial(n):\n",
    "    if n < 0:\n",
    "        print(\"Error: Please enter a non-negative integer.\")\n",
    "        return None\n",
    "    \n",
    "    result = 1\n",
    "    for i in range(1, n + 1):\n",
    "        result *= i\n",
    "    return result\n",
    "\n",
    "user_input = input(\"Enter a non-negative integer: \")\n",
    "\n",
    "if user_input.isdigit():   \n",
    "    num = int(user_input)\n",
    "    fact = factorial(num)\n",
    "    if fact is not None:\n",
    "        print(f\"The factorial of {num} is {fact}\")\n",
    "else:\n",
    "    print(\"Error: Input must be a non-negative integer.\")\n",
    "\n",
    "\n"
   ]
  },
  {
   "cell_type": "markdown",
   "id": "eea49219",
   "metadata": {},
   "source": [
    "## Task 7: Prime Number Checker"
   ]
  },
  {
   "cell_type": "code",
   "execution_count": null,
   "id": "46daff6a",
   "metadata": {},
   "outputs": [],
   "source": [
    "def is_prime(n):\n",
    "    if n <= 1:\n",
    "        return False\n",
    "    for i in range(2, int(n**0.5) + 1):\n",
    "        if n % i == 0:\n",
    "            return False\n",
    "    return True\n",
    "\n",
    "user_input = input(\"Enter a number to check if it's prime: \")\n",
    "\n",
    "if user_input.lstrip(\"-\").isdigit():   # allow negatives by stripping leading \"-\"\n",
    "    num = int(user_input)\n",
    "    if is_prime(num):\n",
    "        print(f\"{num} is a prime number.\")\n",
    "    else:\n",
    "        print(f\"{num} is not a prime number.\")\n",
    "else:\n",
    "    print(\"Error: Input must be an integer.\")\n"
   ]
  }
 ],
 "metadata": {
  "kernelspec": {
   "display_name": "Python 3 (ipykernel)",
   "language": "python",
   "name": "python3"
  },
  "language_info": {
   "codemirror_mode": {
    "name": "ipython",
    "version": 3
   },
   "file_extension": ".py",
   "mimetype": "text/x-python",
   "name": "python",
   "nbconvert_exporter": "python",
   "pygments_lexer": "ipython3",
   "version": "3.13.2"
  }
 },
 "nbformat": 4,
 "nbformat_minor": 5
}
