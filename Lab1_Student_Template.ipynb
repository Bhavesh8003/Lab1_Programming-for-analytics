{
  "metadata": {
    "kernelspec": {
      "name": "python",
      "display_name": "Python (Pyodide)",
      "language": "python"
    },
    "language_info": {
      "codemirror_mode": {
        "name": "python",
        "version": 3
      },
      "file_extension": ".py",
      "mimetype": "text/x-python",
      "name": "python",
      "nbconvert_exporter": "python",
      "pygments_lexer": "ipython3",
      "version": "3.8"
    }
  },
  "nbformat_minor": 5,
  "nbformat": 4,
  "cells": [
    {
      "id": "82e146db",
      "cell_type": "markdown",
      "source": "# AYTS 5001 - Lab 1 Template\n**Getting Started with Python**\n\nFill in the code cells below as you work through the lab tasks.",
      "metadata": {}
    },
    {
      "id": "77367188",
      "cell_type": "markdown",
      "source": "## 1. Environment Setup\nRun the cell below to confirm your environment works by printing out \"Hello, world!\":",
      "metadata": {}
    },
    {
      "id": "22c707df",
      "cell_type": "code",
      "source": "print(\"Hello, world!\")",
      "metadata": {
        "trusted": true
      },
      "outputs": [
        {
          "name": "stdout",
          "output_type": "stream",
          "text": "Hello, world!\n"
        }
      ],
      "execution_count": 2
    },
    {
      "id": "43cb7a5d",
      "cell_type": "markdown",
      "source": "## 2. Variables and Data Types\nCreate and print variables with different data types.",
      "metadata": {}
    },
    {
      "id": "bbb49404",
      "cell_type": "code",
      "source": "\nname = \"Bhavesh Gulab Badkas\"\nage = 23\nheight = 0.15 \nstudent_status = True\n\nprint(name, type(name))\nprint(age, type(age))\nprint(height, type(height))\nprint(student_status, type(student_status))\n\nsum = str(age) + name\nprint(sum, type(sum))",
      "metadata": {
        "trusted": true
      },
      "outputs": [
        {
          "name": "stdout",
          "output_type": "stream",
          "text": "Bhavesh Gulab Badkas <class 'str'>\n23 <class 'int'>\n0.15 <class 'float'>\nTrue <class 'bool'>\n23Bhavesh Gulab Badkas <class 'str'>\n"
        }
      ],
      "execution_count": 15
    },
    {
      "id": "51edfac6",
      "cell_type": "markdown",
      "source": "## 3. Input and Output\nUse input() and print() to interact with the user.",
      "metadata": {}
    },
    {
      "id": "fdfbea71",
      "cell_type": "code",
      "source": "name = input(\"Enter your name:\")\nage = input(\"Enter your age:\")\nprint(f\"Hi {name} your age is {age}\") ",
      "metadata": {
        "trusted": true
      },
      "outputs": [
        {
          "output_type": "stream",
          "name": "stdin",
          "text": "Enter your name: Bhavesh\nEnter your age: 23\n"
        },
        {
          "name": "stdout",
          "output_type": "stream",
          "text": "Hi Bhavesh your age is 23\n"
        }
      ],
      "execution_count": 16
    },
    {
      "id": "a5916c24",
      "cell_type": "markdown",
      "source": "## 4. Expressions and Calculations\nWrite a program that calculates the area and perimeter of a rectangle.",
      "metadata": {}
    },
    {
      "id": "6a27b529",
      "cell_type": "code",
      "source": "width = int(input(\"Enter width of rectangle:\"))\nheight = int(input(\"Enter height of rectangle:\"))\narea = (width * height) \nperimeter = (2*(height + width))\nprint(f\"The area of rectangle is {area} and perimeter of rectangle is {perimeter}\")\n",
      "metadata": {
        "trusted": true
      },
      "outputs": [
        {
          "output_type": "stream",
          "name": "stdin",
          "text": "Enter width of rectangle: 15\nEnter height of rectangle: 15\n"
        },
        {
          "name": "stdout",
          "output_type": "stream",
          "text": "The area of rectangle is 225 and perimeter of rectangle is 60\n"
        }
      ],
      "execution_count": 20
    },
    {
      "id": "b1452e25",
      "cell_type": "markdown",
      "source": "## 5. Git Basics\n(Write down Git commands you used or plan to use.)",
      "metadata": {}
    },
    {
      "id": "5ed8bb2e",
      "cell_type": "code",
      "source": "git init, git add, git push",
      "metadata": {},
      "outputs": [],
      "execution_count": null
    },
    {
      "id": "b152a45d",
      "cell_type": "markdown",
      "source": "## 6. Extension Challenge: BMI Calculator\n(Optional) Write a program to calculate and print the BMI.",
      "metadata": {}
    },
    {
      "id": "e215a357",
      "cell_type": "code",
      "source": "weight = int(input(\"Enter your weight:\"))\nheight = float(input(\"Enter your height in meters:\"))\nbmi = weight/(height**2)\nprint(f\"Your BMI is {bmi}\")",
      "metadata": {
        "trusted": true
      },
      "outputs": [
        {
          "output_type": "stream",
          "name": "stdin",
          "text": "Enter your weight: 53\nEnter your height in meters: 0.15\n"
        },
        {
          "name": "stdout",
          "output_type": "stream",
          "text": "Your BMI is 2355.5555555555557\n"
        }
      ],
      "execution_count": 24
    }
  ]
}