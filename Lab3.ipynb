{
 "cells": [
  {
   "cell_type": "code",
   "execution_count": 44,
   "id": "1b08cd01-c8b0-4da4-8879-b7db120a8ae1",
   "metadata": {},
   "outputs": [
    {
     "name": "stdout",
     "output_type": "stream",
     "text": [
      "[{'Name': 'Bhavesh', 'Age': 23, 'Grade': 80}, {'Name': 'Manisha', 'Age': 24, 'Grade': 85}, {'Name': 'Prathamesh', 'Age': 27, 'Grade': 70}]\n",
      "Average Grade: 78.33333333333333\n",
      "Students scored above average:\n",
      "Bhavesh\n",
      "BHAVESH\n",
      "Manisha\n",
      "MANISHA\n"
     ]
    },
    {
     "name": "stdin",
     "output_type": "stream",
     "text": [
      "Enter Name: xyz\n"
     ]
    },
    {
     "name": "stdout",
     "output_type": "stream",
     "text": [
      "Name not found\n"
     ]
    }
   ],
   "source": [
    "#question 1 Create\ta\tlist\twith\t3\tstudent\tdictionaries\n",
    "students = [{'Name' : 'Bhavesh', 'Age' : 23 , 'Grade' : 80}, {'Name' : 'Manisha' , 'Age' : 24 , 'Grade' : 85}, {'Name' : 'Prathamesh' , 'Age' : 27 , 'Grade' : 70}]\n",
    "print(students)\n",
    "#q2 Print\tthe\taverage\tgrade\t\n",
    "total_grade = sum(student['Grade'] for student in students)\n",
    "avg = total_grade/ len(students)\n",
    "print(\"Average Grade:\", avg)\n",
    "\n",
    "#q3 Print\tthe\tnames\tof\tstudents\twho\tscored\tabove\tthe\taverage\n",
    "#q4 Convert\tall\tnames\tto\tuppercase\tand\tprint\tthem\n",
    "print(\"Students scored above average:\")\n",
    "for student in students:\n",
    "    if student['Grade'] > avg:\n",
    "        print(student['Name'])\n",
    "        print(student['Name'].upper())\n",
    "\n",
    "#q5 Ask\tthe\tuser\tfor\ta\tstudent\tname\tand\tuse\ttry/except\tto\tcheck\tif\tit\texists\tin\tthe\tlist.\tPrint\t\n",
    "#their\tgrade\tor\tan\terror\tmessage.\n",
    "try:\n",
    "    check_name = input(\"Enter Name:\").strip()\n",
    "    found = False\n",
    "    for student in students:\n",
    "        if student['Name'].lower() == check_name.lower():\n",
    "            print(f\"{student['Name']} grade is {student['Grade']}\")\n",
    "            found = True\n",
    "            break\n",
    "            \n",
    "    else:\n",
    "        raise ValueError\n",
    "except ValueError:\n",
    "    print(\"Name not found\")\n",
    "    \n",
    "\n",
    "\n",
    "\n",
    "\n"
   ]
  }
 ],
 "metadata": {
  "kernelspec": {
   "display_name": "Python 3 (ipykernel)",
   "language": "python",
   "name": "python3"
  },
  "language_info": {
   "codemirror_mode": {
    "name": "ipython",
    "version": 3
   },
   "file_extension": ".py",
   "mimetype": "text/x-python",
   "name": "python",
   "nbconvert_exporter": "python",
   "pygments_lexer": "ipython3",
   "version": "3.13.2"
  }
 },
 "nbformat": 4,
 "nbformat_minor": 5
}
